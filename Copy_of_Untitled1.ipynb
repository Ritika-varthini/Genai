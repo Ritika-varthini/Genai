{
  "nbformat": 4,
  "nbformat_minor": 0,
  "metadata": {
    "colab": {
      "provenance": []
    },
    "kernelspec": {
      "name": "python3",
      "display_name": "Python 3"
    },
    "language_info": {
      "name": "python"
    }
  },
  "cells": [
    {
      "cell_type": "code",
      "execution_count": null,
      "metadata": {
        "id": "WWPcx6WuqGN1"
      },
      "outputs": [],
      "source": [
        "import nltk\n",
        "from nltk.stem import porterstemmer,wordNetLemmatizer\n",
        "nltl.download('puntk')\n",
        "nltk.download('wordnet')\n",
        "text=\"the cats were running and studing\"\n",
        "stemmer=porterStemmer()\n",
        "Stemmer_words=[stemmer.stem(word)\n",
        "for word in thext.split()]\n",
        "print(Stemmer_word)\n",
        "lemmatizer=WordNetLemmatizer()\n",
        "lemmatized_word=[lemmatizer.lemmatize(word)\n",
        "for word in text.split()]\n",
        "print(lemmatized_word)"
      ]
    },
    {
      "cell_type": "code",
      "source": [
        "import nltk\n",
        "from nltk.corpus import stopwords\n",
        "nltk.download('stopwords')\n",
        "stop_words=set(stopwords.words('english'))\n",
        "import re\n",
        "text=input(\"enter any text:\")\n",
        "words=re.sub(r'[^\\w\\s]','',text).split()\n",
        "filtered_words=[word for word in words if word.lower()not in stop_words]"
      ],
      "metadata": {
        "id": "UDKYFmDGzurd"
      },
      "execution_count": null,
      "outputs": []
    },
    {
      "cell_type": "code",
      "source": [
        "text=\"there where once three little pigs! they lived in a starw hut ,a stick hut,and a brick hut.\"\n",
        "normalized_text=text.lower()\n",
        "normalized_text=\"\".join([char for char in normalized_text if char.isalnum() or char.isspace()])\n",
        "normalized_text=\"\".join(normalized_text.split())\n",
        "print(\"Orginal Text:\",text)\n",
        "print(\"Normalized text:\",normalized_text)"
      ],
      "metadata": {
        "colab": {
          "base_uri": "https://localhost:8080/"
        },
        "id": "xDS6FGLKz9-B",
        "outputId": "84435aa0-72ef-4c22-d3d0-e6aef0380524"
      },
      "execution_count": 1,
      "outputs": [
        {
          "output_type": "stream",
          "name": "stdout",
          "text": [
            "Orginal Text: there where once three little pigs! they lived in a starw hut ,a stick hut,and a brick hut.\n",
            "Normalized text: therewhereoncethreelittlepigstheylivedinastarwhutastickhutandabrickhut\n"
          ]
        }
      ]
    }
  ]
}